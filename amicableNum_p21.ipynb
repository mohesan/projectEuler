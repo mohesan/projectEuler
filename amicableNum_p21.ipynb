{
 "metadata": {
  "language": "Julia",
  "name": "",
  "signature": "sha256:a572fe468315543ddad5b7291bd82fe491e1af7571294a80fa8068e675ea889f"
 },
 "nbformat": 3,
 "nbformat_minor": 0,
 "worksheets": [
  {
   "cells": [
    {
     "cell_type": "code",
     "collapsed": false,
     "input": [
      "function plg(n)\n",
      "    numbers = [(3:2:n)]\n",
      "    initial = 0\n",
      "    sizeN = div(n,2)-1\n",
      "    stopPos = div(sqrt(n),2)\n",
      "    \n",
      "    for indexer in numbers[1:stopPos]\n",
      "        if indexer == 0\n",
      "            continue\n",
      "        end\n",
      "        for p = (initial+indexer):indexer:sizeN\n",
      "            numbers[p] = 0\n",
      "        end\n",
      "        initial += 1    \n",
      "     end\n",
      "    return filter(x->convert(Bool,x),numbers)\n",
      "end"
     ],
     "language": "python",
     "metadata": {},
     "outputs": [
      {
       "metadata": {},
       "output_type": "pyout",
       "prompt_number": 10,
       "text": [
        "plg (generic function with 1 method)"
       ]
      }
     ],
     "prompt_number": 10
    },
    {
     "cell_type": "code",
     "collapsed": false,
     "input": [
      "plg(100)\n"
     ],
     "language": "python",
     "metadata": {},
     "outputs": [
      {
       "metadata": {},
       "output_type": "pyout",
       "prompt_number": 11,
       "text": [
        "24-element Array{Int64,1}:\n",
        "  3\n",
        "  5\n",
        "  9\n",
        " 11\n",
        " 15\n",
        " 17\n",
        " 21\n",
        " 27\n",
        " 29\n",
        " 35\n",
        " 39\n",
        " 41\n",
        " 45\n",
        " 51\n",
        " 57\n",
        " 59\n",
        " 65\n",
        " 69\n",
        " 71\n",
        " 77\n",
        " 81\n",
        " 87\n",
        " 95\n",
        " 99"
       ]
      }
     ],
     "prompt_number": 11
    },
    {
     "cell_type": "code",
     "collapsed": false,
     "input": [
      "i = [1:10]\n",
      "i[3] = 17\n",
      "print i"
     ],
     "language": "python",
     "metadata": {},
     "outputs": [
      {
       "ename": "LoadError",
       "evalue": "syntax: extra token \"i\" after end of expression\nwhile loading In[33], in expression starting on line 3",
       "output_type": "pyerr",
       "traceback": [
        "syntax: extra token \"i\" after end of expression\nwhile loading In[33], in expression starting on line 3",
        ""
       ]
      }
     ],
     "prompt_number": 33
    },
    {
     "cell_type": "code",
     "collapsed": false,
     "input": [
      "a = [0,1,3,0,13,5,0]\n",
      "[2,filter(x-> convert(Bool,x),a)]"
     ],
     "language": "python",
     "metadata": {},
     "outputs": [
      {
       "metadata": {},
       "output_type": "pyout",
       "prompt_number": 9,
       "text": [
        "5-element Array{Int64,1}:\n",
        "  2\n",
        "  1\n",
        "  3\n",
        " 13\n",
        "  5"
       ]
      }
     ],
     "prompt_number": 9
    },
    {
     "cell_type": "code",
     "collapsed": false,
     "input": [
      "typeof(100.0)"
     ],
     "language": "python",
     "metadata": {},
     "outputs": [
      {
       "metadata": {},
       "output_type": "pyout",
       "prompt_number": 28,
       "text": [
        "Float64"
       ]
      }
     ],
     "prompt_number": 28
    },
    {
     "cell_type": "code",
     "collapsed": false,
     "input": [],
     "language": "python",
     "metadata": {},
     "outputs": [
      {
       "metadata": {},
       "output_type": "pyout",
       "prompt_number": 7,
       "text": [
        "true"
       ]
      }
     ],
     "prompt_number": 7
    },
    {
     "cell_type": "code",
     "collapsed": false,
     "input": [],
     "language": "python",
     "metadata": {},
     "outputs": [
      {
       "metadata": {},
       "output_type": "pyout",
       "prompt_number": 5,
       "text": [
        "true"
       ]
      }
     ],
     "prompt_number": 5
    },
    {
     "cell_type": "code",
     "collapsed": false,
     "input": [],
     "language": "python",
     "metadata": {},
     "outputs": []
    }
   ],
   "metadata": {}
  }
 ]
}