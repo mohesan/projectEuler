{
 "metadata": {
  "name": "",
  "signature": "sha256:86e24c6a11f292efdfb98b32193cdd024295cb1c04b93bd4ad49a56799602a15"
 },
 "nbformat": 3,
 "nbformat_minor": 0,
 "worksheets": [
  {
   "cells": [
    {
     "cell_type": "code",
     "collapsed": false,
     "input": [
      "import numpy as np"
     ],
     "language": "python",
     "metadata": {},
     "outputs": [],
     "prompt_number": 1
    },
    {
     "cell_type": "code",
     "collapsed": false,
     "input": [
      "mat = np.ones((100,100)) #initialize\n",
      "mat = np.triu(mat) #only fractions less than 1\n",
      "np.fill_diagonal(mat,0) # \"\"\n",
      "mat[:,0:10].fill(0) #two digits only\n",
      "mat[0:10,:].fill(0) # \"\""
     ],
     "language": "python",
     "metadata": {},
     "outputs": [],
     "prompt_number": 61
    },
    {
     "cell_type": "code",
     "collapsed": false,
     "input": [
      "'''remove trivial examples i.e. 30/50'''\n",
      "for j in range(10,100,10):\n",
      "    for k in range(10,100,10):\n",
      "        mat[j,k] = 0"
     ],
     "language": "python",
     "metadata": {},
     "outputs": [],
     "prompt_number": 62
    },
    {
     "cell_type": "code",
     "collapsed": false,
     "input": [
      "'''remove quotients without atleast one shared digit'''\n",
      "for j,row in enumerate(mat):\n",
      "    for k,item in enumerate(row):\n",
      "        if item == 0: continue \n",
      "        elif len(set(str(j)+str(k))) <= 3: continue\n",
      "        else: mat[j,k] = 0        "
     ],
     "language": "python",
     "metadata": {},
     "outputs": [],
     "prompt_number": 63
    },
    {
     "cell_type": "code",
     "collapsed": false,
     "input": [
      "'''real deal'''\n",
      "for j,row in enumerate(mat):\n",
      "    for k,item in enumerate(row):\n",
      "        if item == 0: continue\n",
      "        else:\n",
      "            j_digits = [int(n) for n in str(j)]\n",
      "            k_digits = [int(n) for n in str(k)]\n",
      "            shared_digits = set(j_digits) & set(k_digits)\n",
      "            for d in shared_digits:\n",
      "                numerator = j_digits.copy()\n",
      "                numerator.remove(d)\n",
      "                numerator = int(''.join(str(i) for i in numerator))\n",
      "                denominator = k_digits.copy()\n",
      "                denominator.remove(d)\n",
      "                denominator = int(''.join(str(i) for i in denominator))\n",
      "                if denominator == 0: continue\n",
      "                if j/k == numerator/denominator: print(j,k)\n"
     ],
     "language": "python",
     "metadata": {},
     "outputs": [
      {
       "output_type": "stream",
       "stream": "stdout",
       "text": [
        "16 64\n",
        "19 95\n",
        "26 65\n",
        "49 98\n"
       ]
      }
     ],
     "prompt_number": 98
    }
   ],
   "metadata": {}
  }
 ]
}