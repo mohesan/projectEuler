{
 "metadata": {
  "name": "",
  "signature": "sha256:f0e685c2029b402228fc6476e10b4c75d6aedec9cbdb2c590f4416ebb0919f85"
 },
 "nbformat": 3,
 "nbformat_minor": 0,
 "worksheets": [
  {
   "cells": [
    {
     "cell_type": "code",
     "collapsed": false,
     "input": [
      "import math\n",
      "def SubSequence(S):\n",
      "    result = [[]]\n",
      "    for e in S:\n",
      "        result.extend([subset+[e] for subset in result])\n",
      "    return result\n",
      "def PrimeSequence(n):\n",
      "    numbers = range(3,n+1,2)\n",
      "    initial = 0\n",
      "    sizeN   = n//2-1\n",
      "    stopPos  =int(math.sqrt(n)//2)\n",
      "\n",
      "    for indexer in numbers[0:stopPos]:\n",
      "        if indexer == 0:\n",
      "            continue\n",
      "        for p in range(initial+indexer,sizeN,indexer):\n",
      "            numbers[p] = 0\n",
      "        initial += 1\n",
      "    return [2]+ filter(None,numbers)\n",
      "def FactorInt(n,primes=primes,result=[]):\n",
      "    if n == 1:\n",
      "        return result\n",
      "    for p in primes:\n",
      "        if (n%p == 0):\n",
      "            result.append(p)\n",
      "            return DivisorSequence((n/p),primes,result)\n",
      "def PI(seq):\n",
      "    product = 1\n",
      "    for i in seq:\n",
      "        product *= i\n",
      "    return product\n",
      "def Divisors(n):\n",
      "    sum = 0\n",
      "    S = SubSequence(FactorInt(n,primes,[]))\n",
      "    divisors = set([])\n",
      "    for s in S:\n",
      "        divisors.add(PI(s))\n",
      "    return divisors\n",
      "def sumSet(S):\n",
      "    sum = 0\n",
      "    for i in S:\n",
      "        sum += i\n",
      "    return sum\n",
      "def divSum(n):\n",
      "    return sumSet(Divisors(n))\n",
      "def amy(n):    \n",
      "    matrix = [[0,0]]\n",
      "    amis = []\n",
      "    for i in range(1,n+1):\n",
      "        matrix.append([i,divSum(i)-i])\n",
      "    #print matrix[284][1]\n",
      "    #print matrix\n",
      "    for i in range(1,n+1):\n",
      "        if (matrix[i][1]<n) and (i == matrix[matrix[i][1]][1]) and matrix[i][0] != matrix[i][1]:\n",
      "            amis.append(i)\n",
      "    print amis\n",
      "    print sumSet(amis)\n",
      "primes = PrimeSequence(10000)\n",
      "amy(10000)"
     ],
     "language": "python",
     "metadata": {},
     "outputs": [
      {
       "output_type": "stream",
       "stream": "stdout",
       "text": [
        "[220, 284, 1184, 1210, 2620, 2924, 5020, 5564, 6232, 6368]\n",
        "31626\n"
       ]
      }
     ],
     "prompt_number": 275
    }
   ],
   "metadata": {}
  }
 ]
}