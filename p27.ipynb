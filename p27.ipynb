{
 "metadata": {
  "name": "",
  "signature": "sha256:7be3bbb44256d0b1b75c69811e204a4b21e7214ab8c33694252505b00de68df7"
 },
 "nbformat": 3,
 "nbformat_minor": 0,
 "worksheets": [
  {
   "cells": [
    {
     "cell_type": "code",
     "collapsed": false,
     "input": [
      "import math"
     ],
     "language": "python",
     "metadata": {},
     "outputs": []
    },
    {
     "cell_type": "code",
     "collapsed": false,
     "input": [
      "def primes(n):\n",
      "    numbers = range(3,n+1,2)\n",
      "    sizeN   = n//2-1\n",
      "    stopPos  =int(math.sqrt(n)//2)\n",
      "\n",
      "    for initial,indexer in enumerate(numbers[0:stopPos]):\n",
      "        if not indexer:\n",
      "            continue\n",
      "        for p in xrange(initial+indexer,sizeN,indexer):\n",
      "            numbers[p] = False\n",
      "    return [2]+ filter(None,numbers)\n"
     ],
     "language": "python",
     "metadata": {},
     "outputs": []
    }
   ],
   "metadata": {}
  }
 ]
}