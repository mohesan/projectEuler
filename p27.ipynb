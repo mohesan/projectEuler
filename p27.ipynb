{
 "metadata": {
  "name": "",
  "signature": "sha256:300c494fa56814d0ba9644a29b4c18af49ab91b7bee52147cc5ffe41f29caf82"
 },
 "nbformat": 3,
 "nbformat_minor": 0,
 "worksheets": [
  {
   "cells": [
    {
     "cell_type": "code",
     "collapsed": false,
     "input": [
      "import math"
     ],
     "language": "python",
     "metadata": {},
     "outputs": [],
     "prompt_number": 1
    },
    {
     "cell_type": "code",
     "collapsed": false,
     "input": [
      "def primes(n):\n",
      "    numbers = range(3,n+1,2)\n",
      "    sizeN   = n//2-1\n",
      "    stopPos  =int(math.sqrt(n)//2)\n",
      "\n",
      "    for initial,indexer in enumerate(numbers[0:stopPos]):\n",
      "        if not indexer: continue\n",
      "        for p in xrange(initial+indexer,sizeN,indexer):\n",
      "            numbers[p] = False\n",
      "    return [2]+ filter(None,numbers)\n"
     ],
     "language": "python",
     "metadata": {},
     "outputs": [],
     "prompt_number": 2
    },
    {
     "cell_type": "code",
     "collapsed": false,
     "input": [],
     "language": "python",
     "metadata": {},
     "outputs": []
    }
   ],
   "metadata": {}
  }
 ]
}