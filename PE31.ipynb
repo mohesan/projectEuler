{
 "metadata": {
  "name": "",
  "signature": "sha256:469d6e482eda4258c8a73eec3f336450e22445ebdf2c86e82e4b3ad98ccae9ca"
 },
 "nbformat": 3,
 "nbformat_minor": 0,
 "worksheets": [
  {
   "cells": [
    {
     "cell_type": "code",
     "collapsed": false,
     "input": [
      "%%timeit\n",
      "xs = [1]*201\n",
      "for c in [2,5,10,20,50,100,200]:\n",
      "    xs = [sum([xs[n-c*i] for i in range(n//c+1)]) for n in range(201)]"
     ],
     "language": "python",
     "metadata": {},
     "outputs": [
      {
       "output_type": "stream",
       "stream": "stdout",
       "text": [
        "100 loops, best of 3: 3.85 ms per loop\n"
       ]
      }
     ],
     "prompt_number": 29
    },
    {
     "cell_type": "code",
     "collapsed": false,
     "input": [
      "xs[-1]"
     ],
     "language": "python",
     "metadata": {},
     "outputs": [
      {
       "metadata": {},
       "output_type": "pyout",
       "prompt_number": 23,
       "text": [
        "73682"
       ]
      }
     ],
     "prompt_number": 23
    }
   ],
   "metadata": {}
  }
 ]
}