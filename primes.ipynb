{
 "metadata": {
  "name": "",
  "signature": "sha256:ad5212eb76b4ccb95203f5f952e49ba53c267c7963576462aee955e0ae1c5866"
 },
 "nbformat": 3,
 "nbformat_minor": 0,
 "worksheets": [
  {
   "cells": [
    {
     "cell_type": "code",
     "collapsed": false,
     "input": [
      "from math import sqrt\n",
      "def main(n):\n",
      "    numbers = range(3,n+1,2)\n",
      "    initial = 0\n",
      "    sizeN   = n//2-1\n",
      "    stopPos  =int(sqrt(n)//2)\n",
      "\n",
      "    for indexer in numbers[0:stopPos]:\n",
      "        if indexer == 0:\n",
      "            continue\n",
      "        for p in range(initial+indexer,sizeN,indexer):\n",
      "            numbers[p] = 0\n",
      "        initial += 1\n",
      "    return [2]+ filter(None,numbers)\n"
     ],
     "language": "python",
     "metadata": {},
     "outputs": [],
     "prompt_number": 3
    },
    {
     "cell_type": "code",
     "collapsed": true,
     "input": [
      "from time import time\n",
      "st = time()\n",
      "main(10000000)\n",
      "et = time()\n",
      "print et-st"
     ],
     "language": "python",
     "metadata": {},
     "outputs": [
      {
       "output_type": "stream",
       "stream": "stdout",
       "text": [
        "3.35399985313\n"
       ]
      }
     ],
     "prompt_number": 11
    },
    {
     "cell_type": "code",
     "collapsed": false,
     "input": [],
     "language": "python",
     "metadata": {},
     "outputs": []
    }
   ],
   "metadata": {}
  }
 ]
}